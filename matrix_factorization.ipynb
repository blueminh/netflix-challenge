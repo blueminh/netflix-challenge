{
 "cells": [
  {
   "cell_type": "code",
   "execution_count": 7,
   "metadata": {},
   "outputs": [],
   "source": [
    "# Initialise everything from the previous 2 attempts \n",
    "from surprise import SVDpp\n",
    "from surprise import Dataset\n",
    "from surprise.model_selection import cross_validate\n",
    "from surprise import Reader\n",
    "from surprise.model_selection import GridSearchCV\n",
    "import pandas as pd\n",
    "import numpy as np\n",
    "import csv\n",
    "\n",
    "# Read CSV\n",
    "movies = pd.read_csv('movies.csv',sep=';',encoding = \"utf-8\",header=None)\n",
    "predictions = pd.read_csv('predictions.csv',sep=';',header=None)\n",
    "users = pd.read_csv('users.csv',sep=';',header=None)\n",
    "ratings = pd.read_csv('ratings.csv',sep=';',header=None)\n",
    "\n",
    "# Add column names\n",
    "movies.columns = ['movieId','movieYear','movieTitle']\n",
    "predictions.columns = ['userId','movieId']\n",
    "users.columns = ['userId','userGender','userAge','userProfession']\n",
    "ratings.columns = ['userId','movieId','rating']\n",
    "\n",
    "def number_rounder(number: int) -> int:\n",
    "    if (number < 1):\n",
    "        return 1\n",
    "    elif (number > 5):\n",
    "        return 5\n",
    "    else:\n",
    "        return int(round(number))"
   ]
  },
  {
   "cell_type": "code",
   "execution_count": 8,
   "metadata": {},
   "outputs": [],
   "source": [
    "surprise_data = Dataset.load_from_df(ratings[['userId', 'movieId', 'rating']], Reader(rating_scale=(1, 5)))"
   ]
  },
  {
   "cell_type": "code",
   "execution_count": 9,
   "metadata": {},
   "outputs": [],
   "source": [
    "param_grid = {\"n_epochs\": [95,100,105], \"n_factors\": [3, 5, 10, 15]}"
   ]
  },
  {
   "cell_type": "code",
   "execution_count": 10,
   "metadata": {},
   "outputs": [],
   "source": [
    "gs = GridSearchCV(SVDpp, param_grid, measures=[\"rmse\", \"mae\"],n_jobs=-1)"
   ]
  },
  {
   "cell_type": "code",
   "execution_count": 11,
   "metadata": {},
   "outputs": [],
   "source": [
    "gs.fit(surprise_data)"
   ]
  },
  {
   "cell_type": "code",
   "execution_count": 14,
   "metadata": {},
   "outputs": [
    {
     "name": "stdout",
     "output_type": "stream",
     "text": [
      "{'n_epochs': 105, 'n_factors': 5}\n",
      "0.8660500556131897\n"
     ]
    }
   ],
   "source": [
    "print(gs.best_params[\"rmse\"])\n",
    "print(gs.best_score[\"rmse\"])"
   ]
  },
  {
   "cell_type": "code",
   "execution_count": 15,
   "metadata": {},
   "outputs": [],
   "source": [
    "enhanced_param_grid = {\"n_epochs\": [105, 115, 130 ], \"n_factors\": [4,5,6,7]}"
   ]
  },
  {
   "cell_type": "code",
   "execution_count": 16,
   "metadata": {},
   "outputs": [],
   "source": [
    "enhanced_grid_search = GridSearchCV(SVDpp, enhanced_param_grid, measures=[\"rmse\", \"mae\"], n_jobs=-1 )"
   ]
  },
  {
   "cell_type": "code",
   "execution_count": 17,
   "metadata": {},
   "outputs": [],
   "source": [
    "enhanced_grid_search.fit(surprise_data)"
   ]
  },
  {
   "cell_type": "code",
   "execution_count": 18,
   "metadata": {},
   "outputs": [
    {
     "name": "stdout",
     "output_type": "stream",
     "text": [
      "{'n_epochs': 105, 'n_factors': 6}\n",
      "0.8646176540465186\n"
     ]
    }
   ],
   "source": [
    "print(enhanced_grid_search.best_params[\"rmse\"])\n",
    "print(enhanced_grid_search.best_score[\"rmse\"])"
   ]
  },
  {
   "cell_type": "code",
   "execution_count": 28,
   "metadata": {},
   "outputs": [
    {
     "data": {
      "text/plain": [
       "<surprise.prediction_algorithms.matrix_factorization.SVDpp at 0x7f0e0add93d0>"
      ]
     },
     "execution_count": 28,
     "metadata": {},
     "output_type": "execute_result"
    }
   ],
   "source": [
    "algo = enhanced_grid_search.best_estimator[\"rmse\"]\n",
    "full_trainingset = surprise_data.build_full_trainset()\n",
    "algo.fit(full_trainingset)"
   ]
  },
  {
   "cell_type": "code",
   "execution_count": 34,
   "metadata": {},
   "outputs": [],
   "source": [
    "csv_data = []\n",
    "combinations_to_predict = []\n",
    "\n",
    "def inner_id_mapper(user_id, movie_id):\n",
    "    return full_trainingset.to_inner_uid(user_id), full_trainingset.to_inner_iid(movie_id)\n",
    "\n",
    "# Write to File\n",
    "for index, row in predictions.iterrows():\n",
    "    cur_user_id = row['userId']\n",
    "    cur_movie_id = row['movieId']\n",
    "\n",
    "    combinations_to_predict.append([cur_user_id,cur_movie_id,1])\n",
    "\n",
    "test_answers = algo.test(np.array(combinations_to_predict))\n",
    "\n",
    "pred_ratings = [prediction.est for prediction in test_answers]\n",
    "\n",
    "for i in range(1, len(predictions) + 1):\n",
    "    csv_data.append([i,pred_ratings[i-1]])\n",
    "\n",
    "\n",
    "with open('guess_surprise.csv', 'w', newline='') as file:\n",
    "    writer = csv.writer(file)\n",
    "    writer.writerows(csv_data)"
   ]
  },
  {
   "cell_type": "code",
   "execution_count": null,
   "metadata": {},
   "outputs": [],
   "source": []
  }
 ],
 "metadata": {
  "kernelspec": {
   "display_name": "base",
   "language": "python",
   "name": "python3"
  },
  "language_info": {
   "codemirror_mode": {
    "name": "ipython",
    "version": 3
   },
   "file_extension": ".py",
   "mimetype": "text/x-python",
   "name": "python",
   "nbconvert_exporter": "python",
   "pygments_lexer": "ipython3",
   "version": "3.9.12 (main, Apr  5 2022, 06:56:58) \n[GCC 7.5.0]"
  },
  "orig_nbformat": 4,
  "vscode": {
   "interpreter": {
    "hash": "cfe86cd4d92790ecf8ae6b2e8147170aa06d4b6c18edb6e0ff4918ea95805036"
   }
  }
 },
 "nbformat": 4,
 "nbformat_minor": 2
}
