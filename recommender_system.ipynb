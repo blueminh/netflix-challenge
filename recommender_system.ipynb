{
 "cells": [
  {
   "cell_type": "code",
   "execution_count": 1,
   "metadata": {},
   "outputs": [],
   "source": [
    "import pandas as pd\n",
    "import numpy as np\n",
    "import scipy.stats\n",
    "from sklearn.metrics.pairwise import cosine_similarity\n",
    "from sklearn.decomposition import NMF \n",
    "from scipy.sparse.linalg import svds\n",
    "import csv\n",
    "from surprise import SVD\n",
    "from surprise import Dataset\n",
    "from surprise import Reader\n",
    "from surprise.model_selection import cross_validate\n",
    "\n",
    "# Read CSV\n",
    "movies = pd.read_csv('movies.csv',sep=';',encoding = \"utf-8\",header=None)\n",
    "predictions = pd.read_csv('predictions.csv',sep=';',header=None)\n",
    "users = pd.read_csv('users.csv',sep=';',header=None)\n",
    "ratings = pd.read_csv('ratings.csv',sep=';',header=None)\n",
    "\n",
    "# Add column names\n",
    "movies.columns = ['movieId','movieYear','movieTitle']\n",
    "predictions.columns = ['userId','movieId']\n",
    "users.columns = ['userId','userGender','userAge','userProfession']\n",
    "ratings.columns = ['userId','movieId','rating']\n"
   ]
  },
  {
   "cell_type": "code",
   "execution_count": 2,
   "metadata": {},
   "outputs": [],
   "source": [
    "def number_rounder(number: int) -> int:\n",
    "    if (number < 1):\n",
    "        return 1\n",
    "    elif (number > 5):\n",
    "        return 5\n",
    "    else:\n",
    "        return int(round(number))\n"
   ]
  },
  {
   "cell_type": "code",
   "execution_count": 3,
   "metadata": {},
   "outputs": [],
   "source": [
    "\"\"\"\n",
    "OLD CODE! \n",
    "\"\"\"\n",
    "df = pd.merge(ratings,movies,on='movieId',how='outer')\n",
    "\n",
    "# Matrix Creation\n",
    "matrix = df.pivot_table(index='userId', columns='movieId', values='rating')\n",
    "\n",
    "matrix_without_nan_np = matrix.fillna(0).to_numpy()\n",
    "\n",
    "# Normalize User Ratings to account for scale\n",
    "normalized_matrix = matrix.subtract(matrix.mean(axis=1), axis='rows')\n",
    "\n",
    "# Calculate similarity based on cosine distances\n",
    "user_similarity_matrix = cosine_similarity(normalized_matrix.fillna(0)) # cosine distance doesn't work on NaNs for some reason "
   ]
  },
  {
   "cell_type": "code",
   "execution_count": 4,
   "metadata": {},
   "outputs": [],
   "source": [
    "# READ CSV into NP ARR \n",
    "# Don't ask me why the PANDAS way doesn't work it automatically gets rid of 10 movies or somehting\n",
    "\n",
    "my_matrix = np.zeros((len(users),len(movies)))\n",
    "for index, row in ratings.iterrows():\n",
    "    cur_user_id = row['userId']\n",
    "    cur_movie_id = row['movieId']\n",
    "    cur_rating = row['rating']\n",
    "    my_matrix[cur_user_id - 1,cur_movie_id - 1] = int(cur_rating)\n",
    "\n",
    "\n",
    "\n",
    "\n"
   ]
  },
  {
   "cell_type": "code",
   "execution_count": 5,
   "metadata": {},
   "outputs": [],
   "source": [
    "# ALTERNATE APPROACH USING SURPRISE LIBRARY\n",
    "\n",
    "surprise_data = Dataset.load_from_df(ratings[['userId', 'movieId', 'rating']], Reader(rating_scale=(1, 5)))\n"
   ]
  },
  {
   "cell_type": "code",
   "execution_count": 6,
   "metadata": {},
   "outputs": [
    {
     "name": "stdout",
     "output_type": "stream",
     "text": [
      "Evaluating RMSE, MAE of algorithm SVD on 10 split(s).\n",
      "\n",
      "                  Fold 1  Fold 2  Fold 3  Fold 4  Fold 5  Fold 6  Fold 7  Fold 8  Fold 9  Fold 10 Mean    Std     \n",
      "RMSE (testset)    0.8901  0.8923  0.8852  0.8896  0.8887  0.8889  0.8864  0.8910  0.8910  0.8919  0.8895  0.0022  \n",
      "MAE (testset)     0.7045  0.7038  0.6988  0.7028  0.7030  0.7025  0.7001  0.7044  0.7045  0.7053  0.7030  0.0020  \n",
      "Fit time          5.01    4.93    4.71    4.61    4.62    4.70    4.65    4.62    4.57    4.64    4.71    0.14    \n",
      "Test time         0.85    0.76    0.74    0.72    0.75    0.73    0.55    0.72    0.71    0.79    0.73    0.07    \n"
     ]
    }
   ],
   "source": [
    "svd = SVD(n_epochs=10,)\n",
    "results = cross_validate(svd, surprise_data, measures=['RMSE', 'MAE'], cv=10, verbose=True)"
   ]
  },
  {
   "cell_type": "code",
   "execution_count": 7,
   "metadata": {},
   "outputs": [],
   "source": [
    "to_predict = []\n",
    "csv_data = []\n",
    "\n",
    "# Write to File\n",
    "for index, row in predictions.iterrows():\n",
    "    cur_user_id = row['userId']\n",
    "    cur_movie_id = row['movieId']\n",
    "\n",
    "    to_predict.append([cur_user_id,cur_movie_id,1])\n",
    "\n",
    "\n",
    "test_answers = svd.test(np.array(to_predict))\n",
    "\n",
    "pred_ratings = [prediction.est for prediction in test_answers]\n",
    "\n",
    "\n",
    "\n",
    "for i in range(1,len(pred_ratings) + 1):\n",
    "    csv_data.append([i,number_rounder(pred_ratings[i-1])])\n",
    "\n",
    "\n",
    "with open('guess.csv', 'w', newline='') as file:\n",
    "    writer = csv.writer(file)\n",
    "    writer.writerows(csv_data)\n",
    "\n",
    "\n",
    "\n"
   ]
  }
 ],
 "metadata": {
  "kernelspec": {
   "display_name": "base",
   "language": "python",
   "name": "python3"
  },
  "language_info": {
   "codemirror_mode": {
    "name": "ipython",
    "version": 3
   },
   "file_extension": ".py",
   "mimetype": "text/x-python",
   "name": "python",
   "nbconvert_exporter": "python",
   "pygments_lexer": "ipython3",
   "version": "3.9.12 (main, Apr  5 2022, 06:56:58) \n[GCC 7.5.0]"
  },
  "orig_nbformat": 4,
  "vscode": {
   "interpreter": {
    "hash": "cfe86cd4d92790ecf8ae6b2e8147170aa06d4b6c18edb6e0ff4918ea95805036"
   }
  }
 },
 "nbformat": 4,
 "nbformat_minor": 2
}
